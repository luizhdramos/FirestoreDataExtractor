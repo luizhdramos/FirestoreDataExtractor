{
 "cells": [
  {
   "cell_type": "code",
   "execution_count": 3,
   "id": "4368c089",
   "metadata": {
    "ExecuteTime": {
     "end_time": "2023-02-03T04:29:13.887087Z",
     "start_time": "2023-02-03T04:29:13.872786Z"
    }
   },
   "outputs": [],
   "source": [
    "'''\n",
    "English:\n",
    "\n",
    "Use this function to connect to Firestore\n",
    "\n",
    "SDK_Path: The Path of the SDK file used to connect to Firestore\n",
    "\n",
    "Português:\n",
    "\n",
    "Use essa função para se conectar no Firestore\n",
    "SDK_Path: O caminho do arquivo SDK usado para se conectar no Firestore\n",
    "\n",
    "\n",
    "'''\n",
    "\n",
    "def FirestoreConnector(SDK_Path):\n",
    "    import firebase_admin\n",
    "    from firebase_admin import credentials       \n",
    "    cred = credentials.Certificate(SDK_Path)\n",
    "    app = firebase_admin.initialize_app(cred)\n",
    "    return app"
   ]
  },
  {
   "cell_type": "code",
   "execution_count": 10,
   "id": "5a1d91a0",
   "metadata": {
    "ExecuteTime": {
     "end_time": "2023-02-03T04:29:24.946316Z",
     "start_time": "2023-02-03T04:29:24.931659Z"
    }
   },
   "outputs": [],
   "source": [
    "'''\n",
    "English:\n",
    "\n",
    "Use this function to extract data from Firestore to a Pandas Dataframe\n",
    "\n",
    "collection_name: The Collection you want to extract \n",
    "app: Firestore Connector (Use FirestoreConnector to get this variable)\n",
    "batch_size: Batch of date you'll load per time from your connection\n",
    "cursor: The \"document number\" from query\n",
    "\n",
    "Português:\n",
    "\n",
    "Use essa função para extrair dados do Firestore para um Dataframe Pandas\n",
    "\n",
    "collection_name: A Collection que você quer extrair\n",
    "app: Conector do Firestore (Use a função FirestoreConnector para conseguir esta variável)\n",
    "batch_size: Lote de dados que você vai carregar por vez de sua conexão\n",
    "cursor: O \"número documento atual\" da query.\n",
    "\n",
    "'''\n",
    "\n",
    "def FirestoreExtractor(collection_name, app, batch_size=4000, cursor=None):\n",
    "    import pandas as pd\n",
    "    import firebase_admin\n",
    "    from firebase_admin import credentials   \n",
    "    import pandas as pd\n",
    "    import json\n",
    "    from firebase_admin import firestore\n",
    "    import datetime\n",
    "    \n",
    "    db = firestore.client(app)\n",
    "    print('Connected to Firestore')\n",
    "\n",
    "    def iterate(collection_name, batch_size, cursor):\n",
    "        query = db.collection(collection_name).limit(batch_size).order_by('__name__')\n",
    "        if cursor:\n",
    "            query = query.start_after(cursor)\n",
    "\n",
    "        for doc in query.stream():\n",
    "            yield doc\n",
    "\n",
    "        if 'doc' in locals():\n",
    "            yield from iterate(collection_name, batch_size, doc)\n",
    "    print('Creating Dataframe')\n",
    "    items = list(map(lambda x: {**x.to_dict(), 'id': x.id}, iterate(collection_name, batch_size, cursor)))\n",
    "    df = pd.DataFrame(items)\n",
    "    df.set_index('id', inplace=True)\n",
    "    \n",
    "    return df"
   ]
  }
 ],
 "metadata": {
  "kernelspec": {
   "display_name": "FBConnector",
   "language": "python",
   "name": "fbconnector"
  },
  "language_info": {
   "codemirror_mode": {
    "name": "ipython",
    "version": 3
   },
   "file_extension": ".py",
   "mimetype": "text/x-python",
   "name": "python",
   "nbconvert_exporter": "python",
   "pygments_lexer": "ipython3",
   "version": "3.10.4"
  }
 },
 "nbformat": 4,
 "nbformat_minor": 5
}
